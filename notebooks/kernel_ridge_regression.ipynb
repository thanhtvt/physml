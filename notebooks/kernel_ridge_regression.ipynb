{
 "cells": [
  {
   "cell_type": "code",
   "execution_count": 3,
   "metadata": {},
   "outputs": [],
   "source": [
    "import numpy as np\n",
    "import scipy\n",
    "import scipy.io"
   ]
  },
  {
   "cell_type": "code",
   "execution_count": 4,
   "metadata": {},
   "outputs": [
    {
     "data": {
      "text/plain": [
       "dict_keys(['__header__', '__version__', '__globals__', 'X', 'R', 'Z', 'T', 'P'])"
      ]
     },
     "execution_count": 4,
     "metadata": {},
     "output_type": "execute_result"
    }
   ],
   "source": [
    "qm7_path = \"/home/jonnyjack/workspace/FPTAI/research-test/son-hy/qm7.mat\"\n",
    "dataset = scipy.io.loadmat(qm7_path)\n",
    "dataset.keys()"
   ]
  },
  {
   "cell_type": "code",
   "execution_count": 5,
   "metadata": {},
   "outputs": [
    {
     "name": "stdout",
     "output_type": "stream",
     "text": [
      "Couloumb matrices: (7165, 23, 23)\n",
      "Labels (Atomization energies): (1, 7165)\n",
      "Splits for cross-validation: (5, 1433)\n",
      "Cartesian cooridnate: (7165, 23, 3)\n",
      "Atomic charge: (7165, 23)\n"
     ]
    }
   ],
   "source": [
    "print(\"Couloumb matrices:\", dataset['X'].shape)\n",
    "print(\"Labels (Atomization energies):\", dataset['T'].shape)\n",
    "print(\"Splits for cross-validation:\", dataset['P'].shape)\n",
    "print(\"Cartesian cooridnate:\", dataset['R'].shape)\n",
    "print(\"Atomic charge:\", dataset['Z'].shape)"
   ]
  },
  {
   "cell_type": "code",
   "execution_count": 6,
   "metadata": {},
   "outputs": [
    {
     "data": {
      "text/plain": [
       "7161"
      ]
     },
     "execution_count": 6,
     "metadata": {},
     "output_type": "execute_result"
    }
   ],
   "source": [
    "dataset[\"P\"][0].max()"
   ]
  },
  {
   "cell_type": "code",
   "execution_count": 10,
   "metadata": {},
   "outputs": [],
   "source": [
    "from sklearn.svm import SVR\n",
    "from sklearn.kernel_ridge import KernelRidge\n",
    "from sklearn.linear_model import Ridge\n",
    "from sklearn.preprocessing import StandardScaler\n",
    "from sklearn.metrics import mean_absolute_error, mean_squared_error\n",
    "\n",
    "svr = SVR(kernel='rbf', gamma=0.1)\n",
    "kr = KernelRidge(kernel='rbf', gamma=0.1)\n",
    "ridge = Ridge(alpha=1.0)\n",
    "scaler = StandardScaler()"
   ]
  },
  {
   "cell_type": "code",
   "execution_count": 12,
   "metadata": {},
   "outputs": [
    {
     "name": "stdout",
     "output_type": "stream",
     "text": [
      "Split 0\n",
      "MAE: 1537.64 kcal/mol\n",
      "RMSE: 1553.94 kcal/mol\n",
      "Split 1\n",
      "MAE: 1537.55 kcal/mol\n",
      "RMSE: 1553.85 kcal/mol\n",
      "Split 2\n",
      "MAE: 1537.43 kcal/mol\n",
      "RMSE: 1553.64 kcal/mol\n",
      "Split 3\n",
      "MAE: 1537.76 kcal/mol\n",
      "RMSE: 1553.95 kcal/mol\n",
      "Split 4\n",
      "MAE: 1537.79 kcal/mol\n",
      "RMSE: 1554.00 kcal/mol\n"
     ]
    }
   ],
   "source": [
    "no_splits = len(dataset[\"P\"])\n",
    "for split in range(no_splits):\n",
    "    X_test = dataset[\"X\"][dataset[\"P\"][split]]\n",
    "    y_test = dataset[\"T\"][0, dataset[\"P\"][split]]\n",
    "    X_train = dataset[\"X\"][dataset[\"P\"][list(range(0, split)) + list(range(split + 1, no_splits))].flatten()]\n",
    "    y_train = dataset[\"T\"][0, dataset[\"P\"][list(range(0, split)) + list(range(split + 1, no_splits))].flatten()]\n",
    "    num_train_samples = X_train.shape[0]\n",
    "    num_test_samples = X_test.shape[0]\n",
    "    # X_train_scaled = scaler.fit_transform(X_train.reshape(num_train_samples, -1))\n",
    "    # X_test_scaled = scaler.transform(X_test.reshape(num_test_samples, -1))\n",
    "    kr.fit(X_train.reshape(num_train_samples, -1), y_train)\n",
    "    y_pred = kr.predict(X_test.reshape(num_test_samples, -1))\n",
    "    # svr.fit(X_train_scaled, y_train)\n",
    "    # y_pred = svr.predict(X_test_scaled)\n",
    "    print(\"Split %d\" % split)\n",
    "    print(\"MAE: %5.2f kcal/mol\" % mean_absolute_error(y_test, y_pred))\n",
    "    print(\"RMSE: %5.2f kcal/mol\" % mean_squared_error(y_test, y_pred)**.5)\n"
   ]
  },
  {
   "cell_type": "code",
   "execution_count": 17,
   "metadata": {},
   "outputs": [
    {
     "data": {
      "text/plain": [
       "529"
      ]
     },
     "execution_count": 17,
     "metadata": {},
     "output_type": "execute_result"
    }
   ],
   "source": [
    "kr.n_features_in_"
   ]
  }
 ],
 "metadata": {
  "kernelspec": {
   "display_name": "stuff",
   "language": "python",
   "name": "python3"
  },
  "language_info": {
   "codemirror_mode": {
    "name": "ipython",
    "version": 3
   },
   "file_extension": ".py",
   "mimetype": "text/x-python",
   "name": "python",
   "nbconvert_exporter": "python",
   "pygments_lexer": "ipython3",
   "version": "3.10.0"
  },
  "orig_nbformat": 4
 },
 "nbformat": 4,
 "nbformat_minor": 2
}
